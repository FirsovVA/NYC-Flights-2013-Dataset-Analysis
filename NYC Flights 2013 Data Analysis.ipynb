{
 "cells": [
  {
   "cell_type": "markdown",
   "metadata": {},
   "source": [
    "# NYC Flights 2013 Dataset Analysis"
   ]
  },
  {
   "cell_type": "code",
   "execution_count": 305,
   "metadata": {
    "collapsed": false
   },
   "outputs": [
    {
     "name": "stdout",
     "output_type": "stream",
     "text": [
      "IPython version:       5.1.0 (need at least 1.0)\n",
      "Numpy version:        1.11.1 (need at least 1.7.1)\n",
      "SciPy version:        0.18.1 (need at least 0.12.0)\n",
      "Pandas version:       0.18.1 (need at least 0.11.0)\n",
      "Mapltolib version:     1.5.3 (need at least 1.2.1)\n",
      "Scikit-Learn version: 0.17.1 (need at least 0.13.1)\n"
     ]
    }
   ],
   "source": [
    "#IPython is what you are using now to run the notebook\n",
    "import IPython\n",
    "print (\"IPython version:      %6.6s (need at least 1.0)\" % IPython.__version__)\n",
    "\n",
    "# Numpy is a library for working with Arrays\n",
    "import numpy as np\n",
    "print (\"Numpy version:        %6.6s (need at least 1.7.1)\" % np.__version__)\n",
    "\n",
    "# SciPy implements many different numerical algorithms\n",
    "import scipy as sp\n",
    "print (\"SciPy version:        %6.6s (need at least 0.12.0)\" % sp.__version__)\n",
    "\n",
    "# Pandas makes working with data tables easier\n",
    "import pandas as pd\n",
    "print (\"Pandas version:       %6.6s (need at least 0.11.0)\" % pd.__version__)\n",
    "\n",
    "# Module for plotting\n",
    "import matplotlib\n",
    "print (\"Mapltolib version:    %6.6s (need at least 1.2.1)\" % matplotlib.__version__)\n",
    "\n",
    "# SciKit Learn implements several Machine Learning algorithms\n",
    "import sklearn\n",
    "print (\"Scikit-Learn version: %6.6s (need at least 0.13.1)\" % sklearn.__version__)"
   ]
  },
  {
   "cell_type": "markdown",
   "metadata": {},
   "source": [
    "## Performing Exploratory Data Analysis"
   ]
  },
  {
   "cell_type": "code",
   "execution_count": 306,
   "metadata": {
    "collapsed": false
   },
   "outputs": [],
   "source": [
    "import pandas as pd\n",
    "import numpy as np\n",
    "import matplotlib.pyplot as plt"
   ]
  },
  {
   "cell_type": "code",
   "execution_count": 307,
   "metadata": {
    "collapsed": false
   },
   "outputs": [],
   "source": [
    "flights_df= pd.read_csv('flights.csv')"
   ]
  },
  {
   "cell_type": "code",
   "execution_count": 308,
   "metadata": {
    "collapsed": false
   },
   "outputs": [
    {
     "name": "stdout",
     "output_type": "stream",
     "text": [
      "(336776, 17)\n",
      "Index(['Unnamed: 0', 'year', 'month', 'day', 'dep_time', 'dep_delay',\n",
      "       'arr_time', 'arr_delay', 'carrier', 'tailnum', 'flight', 'origin',\n",
      "       'dest', 'air_time', 'distance', 'hour', 'minute'],\n",
      "      dtype='object')\n",
      "Unnamed: 0      int64\n",
      "year            int64\n",
      "month           int64\n",
      "day             int64\n",
      "dep_time      float64\n",
      "dep_delay     float64\n",
      "arr_time      float64\n",
      "arr_delay     float64\n",
      "carrier        object\n",
      "tailnum        object\n",
      "flight          int64\n",
      "origin         object\n",
      "dest           object\n",
      "air_time      float64\n",
      "distance        int64\n",
      "hour          float64\n",
      "minute        float64\n",
      "dtype: object\n"
     ]
    }
   ],
   "source": [
    "print (flights_df.shape)\n",
    "print (flights_df.columns)\n",
    "print (flights_df.dtypes)"
   ]
  },
  {
   "cell_type": "code",
   "execution_count": 309,
   "metadata": {
    "collapsed": false
   },
   "outputs": [
    {
     "data": {
      "text/html": [
       "<div>\n",
       "<table border=\"1\" class=\"dataframe\">\n",
       "  <thead>\n",
       "    <tr style=\"text-align: right;\">\n",
       "      <th></th>\n",
       "      <th>Unnamed: 0</th>\n",
       "      <th>year</th>\n",
       "      <th>month</th>\n",
       "      <th>day</th>\n",
       "      <th>dep_time</th>\n",
       "      <th>dep_delay</th>\n",
       "      <th>arr_time</th>\n",
       "      <th>arr_delay</th>\n",
       "      <th>carrier</th>\n",
       "      <th>tailnum</th>\n",
       "      <th>flight</th>\n",
       "      <th>origin</th>\n",
       "      <th>dest</th>\n",
       "      <th>air_time</th>\n",
       "      <th>distance</th>\n",
       "      <th>hour</th>\n",
       "      <th>minute</th>\n",
       "    </tr>\n",
       "  </thead>\n",
       "  <tbody>\n",
       "    <tr>\n",
       "      <th>0</th>\n",
       "      <td>1</td>\n",
       "      <td>2013</td>\n",
       "      <td>1.0</td>\n",
       "      <td>1.0</td>\n",
       "      <td>517.0</td>\n",
       "      <td>2.0</td>\n",
       "      <td>830.0</td>\n",
       "      <td>11.0</td>\n",
       "      <td>UA</td>\n",
       "      <td>N14228</td>\n",
       "      <td>1545</td>\n",
       "      <td>EWR</td>\n",
       "      <td>IAH</td>\n",
       "      <td>227.0</td>\n",
       "      <td>1400</td>\n",
       "      <td>5.0</td>\n",
       "      <td>17.0</td>\n",
       "    </tr>\n",
       "    <tr>\n",
       "      <th>1</th>\n",
       "      <td>2</td>\n",
       "      <td>2013</td>\n",
       "      <td>1.0</td>\n",
       "      <td>1.0</td>\n",
       "      <td>533.0</td>\n",
       "      <td>4.0</td>\n",
       "      <td>850.0</td>\n",
       "      <td>20.0</td>\n",
       "      <td>UA</td>\n",
       "      <td>N24211</td>\n",
       "      <td>1714</td>\n",
       "      <td>LGA</td>\n",
       "      <td>IAH</td>\n",
       "      <td>227.0</td>\n",
       "      <td>1416</td>\n",
       "      <td>5.0</td>\n",
       "      <td>33.0</td>\n",
       "    </tr>\n",
       "    <tr>\n",
       "      <th>2</th>\n",
       "      <td>3</td>\n",
       "      <td>2013</td>\n",
       "      <td>1.0</td>\n",
       "      <td>1.0</td>\n",
       "      <td>542.0</td>\n",
       "      <td>2.0</td>\n",
       "      <td>923.0</td>\n",
       "      <td>33.0</td>\n",
       "      <td>AA</td>\n",
       "      <td>N619AA</td>\n",
       "      <td>1141</td>\n",
       "      <td>JFK</td>\n",
       "      <td>MIA</td>\n",
       "      <td>160.0</td>\n",
       "      <td>1089</td>\n",
       "      <td>5.0</td>\n",
       "      <td>42.0</td>\n",
       "    </tr>\n",
       "    <tr>\n",
       "      <th>3</th>\n",
       "      <td>4</td>\n",
       "      <td>2013</td>\n",
       "      <td>1.0</td>\n",
       "      <td>1.0</td>\n",
       "      <td>544.0</td>\n",
       "      <td>-1.0</td>\n",
       "      <td>1004.0</td>\n",
       "      <td>-18.0</td>\n",
       "      <td>B6</td>\n",
       "      <td>N804JB</td>\n",
       "      <td>725</td>\n",
       "      <td>JFK</td>\n",
       "      <td>BQN</td>\n",
       "      <td>183.0</td>\n",
       "      <td>1576</td>\n",
       "      <td>5.0</td>\n",
       "      <td>44.0</td>\n",
       "    </tr>\n",
       "    <tr>\n",
       "      <th>4</th>\n",
       "      <td>5</td>\n",
       "      <td>2013</td>\n",
       "      <td>1.0</td>\n",
       "      <td>1.0</td>\n",
       "      <td>554.0</td>\n",
       "      <td>-6.0</td>\n",
       "      <td>812.0</td>\n",
       "      <td>-25.0</td>\n",
       "      <td>DL</td>\n",
       "      <td>N668DN</td>\n",
       "      <td>461</td>\n",
       "      <td>LGA</td>\n",
       "      <td>ATL</td>\n",
       "      <td>116.0</td>\n",
       "      <td>762</td>\n",
       "      <td>5.0</td>\n",
       "      <td>54.0</td>\n",
       "    </tr>\n",
       "    <tr>\n",
       "      <th>5</th>\n",
       "      <td>6</td>\n",
       "      <td>2013</td>\n",
       "      <td>1.0</td>\n",
       "      <td>1.0</td>\n",
       "      <td>554.0</td>\n",
       "      <td>-4.0</td>\n",
       "      <td>740.0</td>\n",
       "      <td>12.0</td>\n",
       "      <td>UA</td>\n",
       "      <td>N39463</td>\n",
       "      <td>1696</td>\n",
       "      <td>EWR</td>\n",
       "      <td>ORD</td>\n",
       "      <td>150.0</td>\n",
       "      <td>719</td>\n",
       "      <td>5.0</td>\n",
       "      <td>54.0</td>\n",
       "    </tr>\n",
       "    <tr>\n",
       "      <th>6</th>\n",
       "      <td>7</td>\n",
       "      <td>2013</td>\n",
       "      <td>1.0</td>\n",
       "      <td>1.0</td>\n",
       "      <td>555.0</td>\n",
       "      <td>-5.0</td>\n",
       "      <td>913.0</td>\n",
       "      <td>19.0</td>\n",
       "      <td>B6</td>\n",
       "      <td>N516JB</td>\n",
       "      <td>507</td>\n",
       "      <td>EWR</td>\n",
       "      <td>FLL</td>\n",
       "      <td>158.0</td>\n",
       "      <td>1065</td>\n",
       "      <td>5.0</td>\n",
       "      <td>55.0</td>\n",
       "    </tr>\n",
       "    <tr>\n",
       "      <th>7</th>\n",
       "      <td>8</td>\n",
       "      <td>2013</td>\n",
       "      <td>1.0</td>\n",
       "      <td>1.0</td>\n",
       "      <td>557.0</td>\n",
       "      <td>-3.0</td>\n",
       "      <td>709.0</td>\n",
       "      <td>-14.0</td>\n",
       "      <td>EV</td>\n",
       "      <td>N829AS</td>\n",
       "      <td>5708</td>\n",
       "      <td>LGA</td>\n",
       "      <td>IAD</td>\n",
       "      <td>53.0</td>\n",
       "      <td>229</td>\n",
       "      <td>5.0</td>\n",
       "      <td>57.0</td>\n",
       "    </tr>\n",
       "    <tr>\n",
       "      <th>8</th>\n",
       "      <td>9</td>\n",
       "      <td>2013</td>\n",
       "      <td>1.0</td>\n",
       "      <td>1.0</td>\n",
       "      <td>557.0</td>\n",
       "      <td>-3.0</td>\n",
       "      <td>838.0</td>\n",
       "      <td>-8.0</td>\n",
       "      <td>B6</td>\n",
       "      <td>N593JB</td>\n",
       "      <td>79</td>\n",
       "      <td>JFK</td>\n",
       "      <td>MCO</td>\n",
       "      <td>140.0</td>\n",
       "      <td>944</td>\n",
       "      <td>5.0</td>\n",
       "      <td>57.0</td>\n",
       "    </tr>\n",
       "    <tr>\n",
       "      <th>9</th>\n",
       "      <td>10</td>\n",
       "      <td>2013</td>\n",
       "      <td>1.0</td>\n",
       "      <td>1.0</td>\n",
       "      <td>558.0</td>\n",
       "      <td>-2.0</td>\n",
       "      <td>753.0</td>\n",
       "      <td>8.0</td>\n",
       "      <td>AA</td>\n",
       "      <td>N3ALAA</td>\n",
       "      <td>301</td>\n",
       "      <td>LGA</td>\n",
       "      <td>ORD</td>\n",
       "      <td>138.0</td>\n",
       "      <td>733</td>\n",
       "      <td>5.0</td>\n",
       "      <td>58.0</td>\n",
       "    </tr>\n",
       "  </tbody>\n",
       "</table>\n",
       "</div>"
      ],
      "text/plain": [
       "   Unnamed: 0  year  month  day  dep_time  dep_delay  arr_time  arr_delay  \\\n",
       "0           1  2013    1.0  1.0     517.0        2.0     830.0       11.0   \n",
       "1           2  2013    1.0  1.0     533.0        4.0     850.0       20.0   \n",
       "2           3  2013    1.0  1.0     542.0        2.0     923.0       33.0   \n",
       "3           4  2013    1.0  1.0     544.0       -1.0    1004.0      -18.0   \n",
       "4           5  2013    1.0  1.0     554.0       -6.0     812.0      -25.0   \n",
       "5           6  2013    1.0  1.0     554.0       -4.0     740.0       12.0   \n",
       "6           7  2013    1.0  1.0     555.0       -5.0     913.0       19.0   \n",
       "7           8  2013    1.0  1.0     557.0       -3.0     709.0      -14.0   \n",
       "8           9  2013    1.0  1.0     557.0       -3.0     838.0       -8.0   \n",
       "9          10  2013    1.0  1.0     558.0       -2.0     753.0        8.0   \n",
       "\n",
       "  carrier tailnum  flight origin dest  air_time  distance  hour  minute  \n",
       "0      UA  N14228    1545    EWR  IAH     227.0      1400   5.0    17.0  \n",
       "1      UA  N24211    1714    LGA  IAH     227.0      1416   5.0    33.0  \n",
       "2      AA  N619AA    1141    JFK  MIA     160.0      1089   5.0    42.0  \n",
       "3      B6  N804JB     725    JFK  BQN     183.0      1576   5.0    44.0  \n",
       "4      DL  N668DN     461    LGA  ATL     116.0       762   5.0    54.0  \n",
       "5      UA  N39463    1696    EWR  ORD     150.0       719   5.0    54.0  \n",
       "6      B6  N516JB     507    EWR  FLL     158.0      1065   5.0    55.0  \n",
       "7      EV  N829AS    5708    LGA  IAD      53.0       229   5.0    57.0  \n",
       "8      B6  N593JB      79    JFK  MCO     140.0       944   5.0    57.0  \n",
       "9      AA  N3ALAA     301    LGA  ORD     138.0       733   5.0    58.0  "
      ]
     },
     "execution_count": 309,
     "metadata": {},
     "output_type": "execute_result"
    }
   ],
   "source": [
    "flights_df.dest.unique()\n",
    "flights_df.head(10)"
   ]
  },
  {
   "cell_type": "markdown",
   "metadata": {},
   "source": [
    "##Some Specific questions that may arise from the dataset"
   ]
  },
  {
   "cell_type": "markdown",
   "metadata": {},
   "source": [
    "(a) How many flights were there from NYC airports to Seattle in 2013?"
   ]
  },
  {
   "cell_type": "code",
   "execution_count": 310,
   "metadata": {
    "collapsed": false
   },
   "outputs": [
    {
     "data": {
      "text/plain": [
       "3923"
      ]
     },
     "execution_count": 310,
     "metadata": {},
     "output_type": "execute_result"
    }
   ],
   "source": [
    "#subsetting the dataframe based on location and origin, taking the count after subsetting\n",
    "len(flights_df[(flights_df.dest=='SEA') & ((flights_df.origin == 'EWR') | (flights_df.origin == 'LGA') | (flights_df.origin == 'JFK'))])                                         "
   ]
  },
  {
   "cell_type": "markdown",
   "metadata": {},
   "source": [
    " There were 3923 flights from NYC to Seattle in 2013."
   ]
  },
  {
   "cell_type": "markdown",
   "metadata": {},
   "source": [
    "(b) How many airlines fly from NYC to Seattle?"
   ]
  },
  {
   "cell_type": "code",
   "execution_count": 311,
   "metadata": {
    "collapsed": false
   },
   "outputs": [
    {
     "data": {
      "text/plain": [
       "5"
      ]
     },
     "execution_count": 311,
     "metadata": {},
     "output_type": "execute_result"
    }
   ],
   "source": [
    "#subsetting the dataframe based on location and origin, taking the unique count of carriers after subsetting\n",
    "len(flights_df[(flights_df.dest=='SEA') & ((flights_df.origin == 'EWR') | (flights_df.origin == 'LGA') | (flights_df.origin == 'JFK'))].carrier.unique())                                      "
   ]
  },
  {
   "cell_type": "markdown",
   "metadata": {},
   "source": [
    "There are 5 airlines flying from NYC to Seattle."
   ]
  },
  {
   "cell_type": "markdown",
   "metadata": {},
   "source": [
    "(c) How many unique air planes fly from NYC to Seattle?"
   ]
  },
  {
   "cell_type": "code",
   "execution_count": 312,
   "metadata": {
    "collapsed": false
   },
   "outputs": [
    {
     "data": {
      "text/plain": [
       "936"
      ]
     },
     "execution_count": 312,
     "metadata": {},
     "output_type": "execute_result"
    }
   ],
   "source": [
    "#subsetting the dataframe based on location and origin, taking the unique count of tailnum after subsetting\n",
    "len(flights_df[(flights_df.dest=='SEA') & ((flights_df.origin == 'EWR') | (flights_df.origin == 'LGA') | (flights_df.origin == 'JFK'))].tailnum.unique())                                      "
   ]
  },
  {
   "cell_type": "markdown",
   "metadata": {},
   "source": [
    "There are 936 unique air planes flying from NYC to Seattle."
   ]
  },
  {
   "cell_type": "markdown",
   "metadata": {},
   "source": [
    "(d) What is the average arrival delay for flights from NC to Seattle?"
   ]
  },
  {
   "cell_type": "code",
   "execution_count": 313,
   "metadata": {
    "collapsed": false
   },
   "outputs": [
    {
     "name": "stdout",
     "output_type": "stream",
     "text": [
      "39.79984239558708\n",
      "-1.0990990990990992\n"
     ]
    }
   ],
   "source": [
    "#subsetting the dataframe based on location and origin, taking the mean of arr_delay after subsetting (excluding non delayed flights)\n",
    "flights_df_filtered = flights_df[(flights_df.arr_delay>0) & (flights_df.dest=='SEA') & ((flights_df.origin == 'EWR') | (flights_df.origin == 'LGA') | (flights_df.origin == 'JFK'))]     \n",
    "print(np.mean(flights_df_filtered.arr_delay))\n",
    "\n",
    "#subsetting the dataframe based on location and origin, taking the mean of arr_delay after subsetting (including non delayed flights)\n",
    "flights_df_filtered = flights_df[(flights_df.dest=='SEA') & ((flights_df.origin == 'EWR') | (flights_df.origin == 'LGA') | (flights_df.origin == 'JFK'))]     \n",
    "print (np.mean(flights_df_filtered.arr_delay))"
   ]
  },
  {
   "cell_type": "markdown",
   "metadata": {},
   "source": [
    "I have filtered out only the flights that had arrival delay at the Seattle airport. Thus to find the average arrival delay, I am not considering the flights that were on time or reached before time. Thus the arrival delay for flights from NYC to Seattle is 39.79984 minutes.\n",
    "\n",
    "If we take all the flights landing at Seattle from NYC, then the average arrival delay decreases to -1.09 minutes."
   ]
  },
  {
   "cell_type": "markdown",
   "metadata": {},
   "source": [
    "(e) What proportion of flights to Seattle come from each NYC airport?"
   ]
  },
  {
   "cell_type": "code",
   "execution_count": 314,
   "metadata": {
    "collapsed": false
   },
   "outputs": [
    {
     "name": "stdout",
     "output_type": "stream",
     "text": [
      "        Percentage\n",
      "origin            \n",
      "EWR       0.466735\n",
      "JFK       0.533265\n"
     ]
    }
   ],
   "source": [
    "#Subsettign dataframe based on destination as Seattle\n",
    "flights_seattle_bound_df = flights_df[(flights_df.dest == 'SEA')]  \n",
    "\n",
    "#Grouping by origin and taking sum count of flights from individual origin locations\n",
    "grouped_data = flights_seattle_bound_df.groupby([flights_seattle_bound_df.origin]).size()\n",
    "\n",
    "#Dividing the sum count of flight from individual locations by total flights to find percentage\n",
    "print (pd.DataFrame({'Percentage':grouped_data / len(flights_seattle_bound_df)}))"
   ]
  },
  {
   "cell_type": "markdown",
   "metadata": {},
   "source": [
    "Firstly, I have filtered the dataset to flights bound to Seattle destination. Then I have grouped the flights by their origin. To find the proportion of flights from each of the airport, using the number of flights from each airport, I have divided each by the total number of flights from NYC to Seattle which is the length of the filtered data frame. Thus there are 46.67% flights to Seattle are from EWR airport and 53.33% flights are from JFK airport flying out of NYC."
   ]
  },
  {
   "cell_type": "markdown",
   "metadata": {},
   "source": [
    "Flights are often delayed. Let us explore some delay patterns\n",
    "\n",
    "(a) Which date has the largest average departure delay? Which date has the largest average arrival delay?"
   ]
  },
  {
   "cell_type": "code",
   "execution_count": 380,
   "metadata": {
    "collapsed": false
   },
   "outputs": [
    {
     "name": "stdout",
     "output_type": "stream",
     "text": [
      "85.8621553885\n",
      "83.5369211514\n"
     ]
    }
   ],
   "source": [
    "#Method 1\n",
    "#Grouping flights df by month and day and caluclating mean directly\n",
    "grouped_data = flights_df.groupby([flights_df.month,flights_df.day]).mean()\n",
    "print(max(grouped_data.arr_delay))\n",
    "print(max(grouped_data.dep_delay))\n",
    "\n"
   ]
  },
  {
   "cell_type": "markdown",
   "metadata": {},
   "source": [
    "Largest average departure delay is 83.53 minutes.\n",
    "Largest average arrival delay is 85.86 minutes."
   ]
  },
  {
   "cell_type": "code",
   "execution_count": 386,
   "metadata": {
    "collapsed": false
   },
   "outputs": [
    {
     "name": "stdout",
     "output_type": "stream",
     "text": [
      "month  day\n",
      "3.0    8.0    83.536921\n",
      "dtype: float64\n",
      "month  day\n",
      "3.0    8.0    85.862155\n",
      "dtype: float64\n"
     ]
    }
   ],
   "source": [
    "#Method 2\n",
    "#Using pivot table function on flights df which automatically calculates the aggregated mean of a column (dep_delay)\n",
    "#over the given set of columns (month, day). Sorting in descending order to find max value as the first values\n",
    "pivot_df_dep_delay=flights_df.pivot_table(columns=['month', 'day'], values='dep_delay')\n",
    "print(pivot_df_dep_delay.sort_values(ascending=False).head(1))\n",
    "\n",
    "#Using pivot table function on flights df which automatically calculates the aggregated mean of a column (arr_delay)\n",
    "#over the given set of columns (month, day). Sorting in descending order to find max value as the first values\n",
    "pivot_df_arr_delay=flights_df.pivot_table(columns=['month', 'day'], values='arr_delay')\n",
    "print(pivot_df_arr_delay.sort_values(ascending=False).head(1))"
   ]
  },
  {
   "cell_type": "code",
   "execution_count": null,
   "metadata": {
    "collapsed": true
   },
   "outputs": [],
   "source": [
    "Largest average departure delay is 83.53 minutes.\n",
    "Largest average arrival delay is 85.86 minutes."
   ]
  },
  {
   "cell_type": "markdown",
   "metadata": {},
   "source": [
    "(b) What was the worst day to fly out of NYC in 2013 if you dislike delayed flights?\n"
   ]
  },
  {
   "cell_type": "code",
   "execution_count": 316,
   "metadata": {
    "collapsed": false
   },
   "outputs": [
    {
     "name": "stdout",
     "output_type": "stream",
     "text": [
      "                Unnamed: 0     dep_time  dep_delay     arr_time  arr_delay  \\\n",
      "day month year                                                               \n",
      "8.0 3.0   2013    143267.0  1416.659574  83.536921  1503.931078  85.862155   \n",
      "\n",
      "                     flight    air_time     distance       hour     minute  \n",
      "day month year                                                              \n",
      "8.0 3.0   2013  2013.537283  153.746867  1002.540347  13.867334  29.926158  \n"
     ]
    }
   ],
   "source": [
    "#Method 1\n",
    "#Using Method 1 from above solution and subsetting the grouped data to find the max dep_delay value \n",
    "grouped_data = flights_df.groupby([flights_df.month,flights_df.day]).mean()\n",
    "print(grouped_data[grouped_data.dep_delay == max(grouped_data.dep_delay)])"
   ]
  },
  {
   "cell_type": "markdown",
   "metadata": {},
   "source": [
    "The worst day to fly out of NYC in 2013 is 8th March as the this was the day with max average delay in departure."
   ]
  },
  {
   "cell_type": "code",
   "execution_count": 388,
   "metadata": {
    "collapsed": false
   },
   "outputs": [
    {
     "name": "stdout",
     "output_type": "stream",
     "text": [
      "month  day\n",
      "3.0    8.0    83.536921\n",
      "dtype: float64\n"
     ]
    }
   ],
   "source": [
    "#Method 2\n",
    "#Using pivot table function on flights df which automatically calculates the aggregated mean of a column (dep_delay)\n",
    "#over the given set of columns (month, day). Sorting in descending order to find max value as the first values\n",
    "pivot_df_dep_delay=flights_df.pivot_table(columns=['month', 'day'], values='dep_delay')\n",
    "print(pivot_df_dep_delay.sort_values(ascending=False).head(1))"
   ]
  },
  {
   "cell_type": "markdown",
   "metadata": {},
   "source": [
    "Using this method as well 8th March 2013 is the worst day to fly if a person disliked delyed flights based on average delay in departure being the highest."
   ]
  },
  {
   "cell_type": "markdown",
   "metadata": {},
   "source": [
    "(c) Are there any seasonal patterns in departure delays for flights from NYC?"
   ]
  },
  {
   "cell_type": "code",
   "execution_count": 379,
   "metadata": {
    "collapsed": false
   },
   "outputs": [
    {
     "name": "stdout",
     "output_type": "stream",
     "text": [
      "    month  Mean_Delay_Departure\n",
      "0     1.0             10.036665\n",
      "1     2.0             10.816843\n",
      "2     3.0             13.227076\n",
      "3     4.0             13.938038\n",
      "4     5.0             12.986859\n",
      "5     6.0             20.846332\n",
      "6     7.0             21.727787\n",
      "7     8.0             12.611040\n",
      "8     9.0              6.722476\n",
      "9    10.0              6.243988\n",
      "10   11.0              5.435362\n",
      "11   12.0             16.576688\n"
     ]
    },
    {
     "data": {
      "image/png": "[encoded data removed]",
      "text/plain": [
       "<matplotlib.figure.Figure at 0x2ef40ce8358>"
      ]
     },
     "metadata": {},
     "output_type": "display_data"
    }
   ],
   "source": [
    "#Method 1\n",
    "#grouping flights df to calculate mean departure delay over the months\n",
    "grouped_data = pd.DataFrame(flights_df.groupby([flights_df.month])['dep_delay'].mean().reset_index(name='Mean_Delay_Departure'))\n",
    "print(grouped_data)\n",
    "\n",
    "#Plotting Mean Departure delay over a Day\n",
    "plt.plot(grouped_data.month, grouped_data.Mean_Delay_Departure,'')\n",
    "plt.xlim(1, 12)\n",
    "plt.ylabel('Mean Delay Departure Time (minutes)')\n",
    "plt.xlabel('Months')\n",
    "plt.title('Mean Departure delay over a Day')\n",
    "plt.show()"
   ]
  },
  {
   "cell_type": "markdown",
   "metadata": {},
   "source": [
    "We see a peculiar seasonal pattern. The delays are more during holiday seasons like the summers and end of year. This is tiem usually when people travel the most and hence due to more passenger traffic, we could expect delays at the airports."
   ]
  },
  {
   "cell_type": "code",
   "execution_count": 406,
   "metadata": {
    "collapsed": false
   },
   "outputs": [
    {
     "data": {
      "image/png": "[encoded data removed]",
      "text/plain": [
       "<matplotlib.figure.Figure at 0x2ef40b9c3c8>"
      ]
     },
     "metadata": {},
     "output_type": "display_data"
    }
   ],
   "source": [
    "#Method 2\n",
    "#Filtering flights df to capture only delyed flights over the whole population\n",
    "filtered_flights_df = flights_df[flights_df.dep_delay > 0]\n",
    "\n",
    "#Grouping by month to find the count of delays\n",
    "grouped_data = pd.DataFrame(filtered_flights_df.groupby([filtered_flights_df.month])['dep_delay'].size().reset_index(name='Count'))\n",
    "\n",
    "#Plotting Number of delays per Month\n",
    "plt.bar(grouped_data.month, grouped_data.Count, color=\"red\")\n",
    "plt.ylabel('Number of Delays')\n",
    "plt.xlabel('Months')\n",
    "plt.title('Number of delays per Month')\n",
    "plt.show()"
   ]
  },
  {
   "cell_type": "markdown",
   "metadata": {},
   "source": [
    "From the above visualization we can again see that number of delays are higher during the holiday season and lower during non- holiday seasons."
   ]
  },
  {
   "cell_type": "markdown",
   "metadata": {},
   "source": [
    "(d) On average, how do departure delays vary over the course of a day?"
   ]
  },
  {
   "cell_type": "code",
   "execution_count": 405,
   "metadata": {
    "collapsed": false
   },
   "outputs": [
    {
     "name": "stdout",
     "output_type": "stream",
     "text": [
      "    hour  Mean_Delay_Departure\n",
      "0    0.0            128.642452\n",
      "1    1.0            207.049327\n",
      "2    2.0            239.921875\n",
      "3    3.0            304.727273\n",
      "4    4.0             -5.554098\n",
      "5    5.0             -4.355644\n",
      "6    6.0             -1.520552\n",
      "7    7.0              0.223289\n",
      "8    8.0              1.091432\n",
      "9    9.0              4.268295\n",
      "10  10.0              5.548644\n",
      "11  11.0              5.652309\n",
      "12  12.0              7.601892\n",
      "13  13.0              9.380639\n",
      "14  14.0              8.090381\n",
      "15  15.0             10.682049\n",
      "16  16.0             13.621150\n",
      "17  17.0             16.756593\n",
      "18  18.0             18.664671\n",
      "19  19.0             21.497342\n",
      "20  20.0             28.266213\n",
      "21  21.0             42.064964\n",
      "22  22.0             68.190042\n",
      "23  23.0             96.946865\n",
      "24  24.0             64.862069\n"
     ]
    },
    {
     "data": {
      "image/png": "[encoded data removed]",
      "text/plain": [
       "<matplotlib.figure.Figure at 0x2ef40bf6d68>"
      ]
     },
     "metadata": {},
     "output_type": "display_data"
    }
   ],
   "source": [
    "#Method 1\n",
    "#Grouping flights df over hour to understand the variation over the course of a day, calculating mean departure delay\n",
    "grouped_data = pd.DataFrame(flights_df.groupby([flights_df.hour])['dep_delay'].mean().reset_index(name='Mean_Delay_Departure'))\n",
    "print(grouped_data)\n",
    "\n",
    "plt.plot(grouped_data.hour, grouped_data.Mean_Delay_Departure,'')\n",
    "plt.xlim(0, 24)\n",
    "plt.ylabel('Mean Delay Departure Time (minutes)')\n",
    "plt.xlabel('Hours during the day')\n",
    "plt.title('Mean Departure delay over a Day')\n",
    "plt.show()"
   ]
  },
  {
   "cell_type": "markdown",
   "metadata": {},
   "source": [
    "The departure delays are higher in the late night - early morning flights to the mid day flights. The reason for this could be more number of flights taking off during night times. "
   ]
  },
  {
   "cell_type": "code",
   "execution_count": 417,
   "metadata": {
    "collapsed": true
   },
   "outputs": [
    {
     "name": "stdout",
     "output_type": "stream",
     "text": [
      "    hour  Count  Total_Count  Percentage_Delays\n",
      "0    0.0    881          881         100.000000\n",
      "1    1.0    223          223         100.000000\n",
      "2    2.0     64           64         100.000000\n",
      "3    3.0     11           11         100.000000\n",
      "4    5.0    368         7246           5.078664\n",
      "5    6.0   4126        22699          18.177012\n",
      "6    7.0   4455        21461          20.758585\n",
      "7    8.0   6190        26424          23.425674\n",
      "8    9.0   5508        18871          29.187642\n",
      "9   10.0   5009        16076          31.158248\n",
      "10  11.0   4813        16762          28.713757\n",
      "11  12.0   5668        16071          35.268496\n",
      "12  13.0   7061        16890          41.805802\n",
      "13  14.0   7555        20480          36.889648\n",
      "14  15.0  10568        22840          46.269702\n",
      "15  16.0  10653        22336          47.694305\n",
      "16  17.0  11558        22144          52.194725\n",
      "17  18.0  10413        21549          48.322428\n",
      "18  19.0  10595        19940          53.134403\n",
      "19  20.0   9077        16160          56.169554\n",
      "20  21.0   7444        10960          67.919708\n",
      "21  22.0   4118         5483          75.104870\n",
      "22  23.0   2045         2616          78.172783\n",
      "23  24.0     29           29         100.000000\n"
     ]
    },
    {
     "data": {
      "image/png": "[encoded data removed]",
      "text/plain": [
       "<matplotlib.figure.Figure at 0x2ef40b46a90>"
      ]
     },
     "metadata": {},
     "output_type": "display_data"
    }
   ],
   "source": [
    "#Method 2\n",
    "#Filtering flights df to capture only delayed flights over the whole population\n",
    "filtered_flights_df = flights_df[flights_df.dep_delay > 0]\n",
    "\n",
    "#Grouping by hour to find the count of delays\n",
    "grouped_data = pd.DataFrame(filtered_flights_df.groupby([filtered_flights_df.hour])['dep_delay'].size().reset_index(name='Count'))\n",
    "\n",
    "#Grouping by hour to find the total count of flights over a day to further find the percentage of delays\n",
    "grouped_data_non_filtered = pd.DataFrame(flights_df.groupby([flights_df.hour])['dep_delay'].size().reset_index(name='Total_Count'))\n",
    "\n",
    "#Merging both the dataframes\n",
    "df_merged = pd.merge(grouped_data, grouped_data_non_filtered, on=['hour'])\n",
    "\n",
    "df_merged['Percentage_Delays'] = (df_merged.Count/df_merged.Total_Count)*100\n",
    "print(df_merged)\n",
    "#Plotting Number of delays per Hour of a day\n",
    "plt.bar(df_merged.hour, df_merged.Percentage_Delays, color=\"black\")\n",
    "plt.ylabel('Percentage of Delays')\n",
    "plt.xlabel('Hours')\n",
    "plt.title('Percentage of delays per Hour of a day')\n",
    "plt.show()"
   ]
  },
  {
   "cell_type": "markdown",
   "metadata": {},
   "source": [
    "From above visualization we can see that 100% of flights are delayed for late night - early morning. Thus there is trend during the day. We can also gather from above that not many flights fly during late night - early morning times thus the reason for such delays is not known."
   ]
  },
  {
   "cell_type": "markdown",
   "metadata": {},
   "source": [
    "Which flight departing NYC in 2013 flew the fastest?"
   ]
  },
  {
   "cell_type": "code",
   "execution_count": 381,
   "metadata": {
    "collapsed": false
   },
   "outputs": [
    {
     "name": "stdout",
     "output_type": "stream",
     "text": [
      "216447    1499\n",
      "Name: flight, dtype: int64\n"
     ]
    }
   ],
   "source": [
    "#Calculating speed based on distance travelled and air_time\n",
    "flights_df['speed'] = flights_df['distance']/flights_df['air_time']\n",
    "\n",
    "#Filtering based on max overall speed of plane in travelling to its destination\n",
    "print(flights_df[(flights_df.speed == max(flights_df.speed))]['flight'])"
   ]
  },
  {
   "cell_type": "markdown",
   "metadata": {},
   "source": [
    "Flight number 1499 flew the fastest from NYC in 2013. "
   ]
  },
  {
   "cell_type": "markdown",
   "metadata": {},
   "source": [
    "Which flights (i.e. carrier + flight + dest) happen every day? Where do they fly to?"
   ]
  },
  {
   "cell_type": "code",
   "execution_count": 384,
   "metadata": {
    "collapsed": false
   },
   "outputs": [
    {
     "data": {
      "text/html": [
       "<div>\n",
       "<table border=\"1\" class=\"dataframe\">\n",
       "  <thead>\n",
       "    <tr style=\"text-align: right;\">\n",
       "      <th></th>\n",
       "      <th>carrier</th>\n",
       "      <th>flight</th>\n",
       "      <th>dest</th>\n",
       "      <th>Count</th>\n",
       "    </tr>\n",
       "  </thead>\n",
       "  <tbody>\n",
       "    <tr>\n",
       "      <th>767</th>\n",
       "      <td>AA</td>\n",
       "      <td>59</td>\n",
       "      <td>SFO</td>\n",
       "      <td>365</td>\n",
       "    </tr>\n",
       "    <tr>\n",
       "      <th>775</th>\n",
       "      <td>AA</td>\n",
       "      <td>119</td>\n",
       "      <td>LAX</td>\n",
       "      <td>365</td>\n",
       "    </tr>\n",
       "    <tr>\n",
       "      <th>783</th>\n",
       "      <td>AA</td>\n",
       "      <td>181</td>\n",
       "      <td>LAX</td>\n",
       "      <td>365</td>\n",
       "    </tr>\n",
       "    <tr>\n",
       "      <th>904</th>\n",
       "      <td>AA</td>\n",
       "      <td>1357</td>\n",
       "      <td>SJU</td>\n",
       "      <td>365</td>\n",
       "    </tr>\n",
       "    <tr>\n",
       "      <th>914</th>\n",
       "      <td>AA</td>\n",
       "      <td>1611</td>\n",
       "      <td>MIA</td>\n",
       "      <td>365</td>\n",
       "    </tr>\n",
       "    <tr>\n",
       "      <th>1118</th>\n",
       "      <td>B6</td>\n",
       "      <td>219</td>\n",
       "      <td>CLT</td>\n",
       "      <td>365</td>\n",
       "    </tr>\n",
       "    <tr>\n",
       "      <th>1147</th>\n",
       "      <td>B6</td>\n",
       "      <td>359</td>\n",
       "      <td>BUR</td>\n",
       "      <td>365</td>\n",
       "    </tr>\n",
       "    <tr>\n",
       "      <th>1150</th>\n",
       "      <td>B6</td>\n",
       "      <td>371</td>\n",
       "      <td>FLL</td>\n",
       "      <td>365</td>\n",
       "    </tr>\n",
       "    <tr>\n",
       "      <th>1169</th>\n",
       "      <td>B6</td>\n",
       "      <td>431</td>\n",
       "      <td>SRQ</td>\n",
       "      <td>365</td>\n",
       "    </tr>\n",
       "    <tr>\n",
       "      <th>1243</th>\n",
       "      <td>B6</td>\n",
       "      <td>703</td>\n",
       "      <td>SJU</td>\n",
       "      <td>365</td>\n",
       "    </tr>\n",
       "    <tr>\n",
       "      <th>1379</th>\n",
       "      <td>B6</td>\n",
       "      <td>1783</td>\n",
       "      <td>MCO</td>\n",
       "      <td>365</td>\n",
       "    </tr>\n",
       "    <tr>\n",
       "      <th>2012</th>\n",
       "      <td>DL</td>\n",
       "      <td>2159</td>\n",
       "      <td>MCO</td>\n",
       "      <td>365</td>\n",
       "    </tr>\n",
       "    <tr>\n",
       "      <th>2081</th>\n",
       "      <td>DL</td>\n",
       "      <td>2391</td>\n",
       "      <td>TPA</td>\n",
       "      <td>365</td>\n",
       "    </tr>\n",
       "    <tr>\n",
       "      <th>4631</th>\n",
       "      <td>EV</td>\n",
       "      <td>5712</td>\n",
       "      <td>IAD</td>\n",
       "      <td>365</td>\n",
       "    </tr>\n",
       "    <tr>\n",
       "      <th>5116</th>\n",
       "      <td>UA</td>\n",
       "      <td>15</td>\n",
       "      <td>HNL</td>\n",
       "      <td>365</td>\n",
       "    </tr>\n",
       "    <tr>\n",
       "      <th>10607</th>\n",
       "      <td>VX</td>\n",
       "      <td>251</td>\n",
       "      <td>LAS</td>\n",
       "      <td>365</td>\n",
       "    </tr>\n",
       "    <tr>\n",
       "      <th>10609</th>\n",
       "      <td>VX</td>\n",
       "      <td>407</td>\n",
       "      <td>LAX</td>\n",
       "      <td>365</td>\n",
       "    </tr>\n",
       "    <tr>\n",
       "      <th>10613</th>\n",
       "      <td>VX</td>\n",
       "      <td>413</td>\n",
       "      <td>LAX</td>\n",
       "      <td>365</td>\n",
       "    </tr>\n",
       "  </tbody>\n",
       "</table>\n",
       "</div>"
      ],
      "text/plain": [
       "      carrier  flight dest  Count\n",
       "767        AA      59  SFO    365\n",
       "775        AA     119  LAX    365\n",
       "783        AA     181  LAX    365\n",
       "904        AA    1357  SJU    365\n",
       "914        AA    1611  MIA    365\n",
       "1118       B6     219  CLT    365\n",
       "1147       B6     359  BUR    365\n",
       "1150       B6     371  FLL    365\n",
       "1169       B6     431  SRQ    365\n",
       "1243       B6     703  SJU    365\n",
       "1379       B6    1783  MCO    365\n",
       "2012       DL    2159  MCO    365\n",
       "2081       DL    2391  TPA    365\n",
       "4631       EV    5712  IAD    365\n",
       "5116       UA      15  HNL    365\n",
       "10607      VX     251  LAS    365\n",
       "10609      VX     407  LAX    365\n",
       "10613      VX     413  LAX    365"
      ]
     },
     "execution_count": 384,
     "metadata": {},
     "output_type": "execute_result"
    }
   ],
   "source": [
    "#Grouping by carrier + flight + dest and counting the number of such flights \n",
    "#thus we get the number of days the same carrier + flight + dest has happened\n",
    "grouped_data = pd.DataFrame(flights_df.groupby([flights_df.carrier,flights_df.flight,flights_df.dest]).size().reset_index(name='Count'))\n",
    "\n",
    "#Filtering on max value of the count to find all such combinations\n",
    "grouped_data[grouped_data.Count == max(grouped_data.Count)]"
   ]
  },
  {
   "cell_type": "markdown",
   "metadata": {},
   "source": [
    "The above 18 different flights happen everyday. The location of the final destination is given by the dest column."
   ]
  },
  {
   "cell_type": "markdown",
   "metadata": {},
   "source": [
    "Exploring through research questions\n"
   ]
  },
  {
   "cell_type": "markdown",
   "metadata": {},
   "source": [
    "Research Question - Which carriers have been the top and the bottom performers in 2013?\n",
    "\n",
    "Why this question?\n",
    "I think this quesion will help us identify the carriers which have been performing badly through out the year. By knowing this we can help the general public to avoid commuting by this carrier.\n",
    "\n",
    "I feel that to answer this question we would have to look at the number of flights departing delayed and also arriving  delayed. I plan to ignore the flights which departed delayed though arrived on or before time, as in all the time was covered up while flying. Although there is a ethical promise that a carrier makes to start on scheduled time, I plan to ignore this concern in my below analysis."
   ]
  },
  {
   "cell_type": "code",
   "execution_count": 321,
   "metadata": {
    "collapsed": false
   },
   "outputs": [
    {
     "data": {
      "image/png": "[encoded data removed]",
      "text/plain": [
       "<matplotlib.figure.Figure at 0x2ef4351c4e0>"
      ]
     },
     "metadata": {},
     "output_type": "display_data"
    },
    {
     "data": {
      "image/png": "[encoded data removed]",
      "text/plain": [
       "<matplotlib.figure.Figure at 0x2ef3f7a36d8>"
      ]
     },
     "metadata": {},
     "output_type": "display_data"
    }
   ],
   "source": [
    "#Fitering dataset for flights having arr_delay>0 and dep_delay>0\n",
    "flights_df_filtered_carrier = flights_df[(flights_df.arr_delay>0) & (flights_df.dep_delay>0)]  \n",
    "\n",
    "#Grouping by carrier and getting the count\n",
    "grouped_career_filtered = flights_df_filtered_carrier.groupby([flights_df_filtered_carrier.carrier]).size().reset_index(name='Size')\n",
    "grouped_career_filtered\n",
    "\n",
    "#Removing NA's from dep_time column\n",
    "flights_df_filtered_total = flights_df[np.isfinite(flights_df['dep_time'])] \n",
    "\n",
    "#Grouping by carrier to find the total count for each carrier\n",
    "grouped_career_total = flights_df_filtered_total.groupby([flights_df_filtered_total.carrier]).size().reset_index(name='Total_Size')\n",
    "grouped_career_total\n",
    "\n",
    "#Merging both the dataframes\n",
    "df_col_merged = pd.merge(grouped_career_filtered, grouped_career_total, on=['carrier'])\n",
    "\n",
    "#CalculatingPercentage delays\n",
    "df_col_merged['Percentage_Delays'] = (df_col_merged.Size/df_col_merged.Total_Size)*100\n",
    "\n",
    "df_col_merged\n",
    "\n",
    "#Plotting Percent Delay by Carrier through 2013\n",
    "ind = np.arange(len(df_col_merged.carrier))\n",
    "plt.bar(ind, df_col_merged.Percentage_Delays, color=\"blue\")\n",
    "plt.ylabel('Delay Percentage')\n",
    "plt.xlabel('Carriers')\n",
    "plt.title('Percent Delay by Carrier through 2013')\n",
    "plt.xticks(ind, df_col_merged.carrier)\n",
    "plt.show()\n",
    "\n",
    "#Grouping by carrier and getting the mean arrival delay\n",
    "df_mean_arr_delay = flights_df_filtered_carrier.groupby([flights_df_filtered_carrier.carrier])['arr_delay'].mean().reset_index(name='Mean_Arrival_Delay')\n",
    "\n",
    "#Plotting Average Arrival Delay for each Carrier\n",
    "ind = np.arange(len(df_mean_arr_delay.carrier))\n",
    "plt.bar(ind, df_mean_arr_delay.Mean_Arrival_Delay, color=\"green\")\n",
    "plt.ylabel('Avg. Arrival Delay (minutes)')\n",
    "plt.xlabel('Carriers')\n",
    "plt.title('Average Arrival Delay for each Carrier')\n",
    "plt.xticks(ind, df_col_merged.carrier)\n",
    "plt.show()"
   ]
  },
  {
   "cell_type": "markdown",
   "metadata": {},
   "source": [
    "Analysis - \n",
    "The performance of the carrier can be gauged by (1) what percentage of flights of a particular carrier are delayed in departure and also delayed in arrival and (2) what is the average delay in arrival time for each of the carrier over the year of 2013.\n",
    "\n",
    "Firstly, looking at the visualization (Percent Delay by Carrier through 2013), we observe that carrier FL has the highest delay %, thus making it the least performer among other carriers. Carrier HA has the best performance in terms of delay %.\n",
    "\n",
    "Secondly, looking at the visualization (Average Arrival Delay for each Carrier), we observe that OO and HA have higher arrival delays among other carriers. UA and US carriers perform best when looking from this perspective. I have considered average arrival delay because I feel that in all for a traveller the delay in reaching a particular point is more significant than delay in departure."
   ]
  },
  {
   "cell_type": "markdown",
   "metadata": {},
   "source": [
    "What weather conditions are associated with flight delays leaving NYC? Use graphics to explore."
   ]
  },
  {
   "cell_type": "code",
   "execution_count": 364,
   "metadata": {
    "collapsed": false
   },
   "outputs": [],
   "source": [
    "#Loading weather data\n",
    "weather_df= pd.read_csv('weather.csv')\n",
    "\n",
    "#Filtering only delayed flights from all airports\n",
    "flights_df_filtered_delayed = flights_df[(flights_df.dep_delay>0)] \n",
    "\n",
    "#Grouping by origin, hour, day and month, as analysis would be at the granularity of the weather dataset\n",
    "groupby_output = flights_df_filtered_delayed.groupby([flights_df_filtered_delayed.origin, flights_df_filtered_delayed.month, flights_df_filtered_delayed.day, flights_df_filtered_delayed.hour])\n",
    "grouped_origin_time_hour = groupby_output['dep_delay'].agg([np.size, np.mean]).reset_index()"
   ]
  },
  {
   "cell_type": "markdown",
   "metadata": {},
   "source": [
    "Above, I have loaded the flights and weather dataset and also filtered data according to delayed or not delayed as that will help in comparison when combined with the weather datset. By filtering out the delayed flights, I plan to study average time delay and number of delays per some of the variables (visib, wind_speed, wind_gust) in the weather dataset. If we consider the whole dataset, without filtering, then due to averaging out we could miss out on some of the specific flights that were actually delayed because there are flights which have departed early. Thus to avoid such a miss, I have considered only delayed flights for analysis. Also some of the plane models might not be affected by weather and hence might takeoff on or before time, to remove those biases, I consider only delyed flights.\n",
    "\n",
    "As the granularity of analysis would of the weather dataset, I have grouped the flight_delayed dataset by origin and time_hour bringing it to similar granularity. By grouping, I have calculated the average delay time at a particular time_hour and airport and also calculated total count of delays at a particular time_hour and airport."
   ]
  },
  {
   "cell_type": "code",
   "execution_count": 363,
   "metadata": {
    "collapsed": false
   },
   "outputs": [],
   "source": [
    "#Joining the above output with the weather dataset. This is an inner join and the hour-day-month for which \n",
    "#data is not present in weather dataset are omitted.\n",
    "df_weather_flights_merged = pd.merge(grouped_origin_time_hour, weather_df, on=['origin','hour','day','month'])\n",
    "\n",
    "#Renaming Columns\n",
    "df_weather_flights_merged = df_weather_flights_merged.rename(columns={'size': 'Count', 'mean': 'TotalDelay'})"
   ]
  },
  {
   "cell_type": "markdown",
   "metadata": {},
   "source": [
    "Above, I have merged the weather and the grouped dataset so that it will help in analysis. The merging is done on origin and time_hour columns."
   ]
  },
  {
   "cell_type": "code",
   "execution_count": 385,
   "metadata": {
    "collapsed": false
   },
   "outputs": [
    {
     "name": "stdout",
     "output_type": "stream",
     "text": [
      "    visib  TotalDelay      Count\n",
      "                 mean       mean\n",
      "0    0.12   53.125926   9.333333\n",
      "1    0.25   50.368918   9.266667\n",
      "2    0.50   48.025944   8.081081\n",
      "3    0.75  108.043222  10.375000\n",
      "4    1.00   44.052121   8.615385\n",
      "5    1.25   99.533333  15.000000\n",
      "6    1.50   57.758718  10.785714\n",
      "7    1.75  106.130952   7.000000\n",
      "8    2.00   53.179340  10.566265\n",
      "9    2.50   57.614434   9.750000\n",
      "10   3.00   43.960403  11.780488\n",
      "11   4.00   44.990879   9.128571\n",
      "12   5.00   45.245112  10.178947\n",
      "13   6.00   45.309186   7.691729\n",
      "14   7.00   42.906023   8.536000\n",
      "15   8.00   41.097958   8.829268\n",
      "16   9.00   46.031925   9.126394\n",
      "17  10.00   36.867483   7.761381\n"
     ]
    },
    {
     "data": {
      "image/png": "[encoded data removed]",
      "text/plain": [
       "<matplotlib.figure.Figure at 0x2ef3f7ae390>"
      ]
     },
     "metadata": {},
     "output_type": "display_data"
    },
    {
     "data": {
      "image/png": "[encoded data removed]",
      "text/plain": [
       "<matplotlib.figure.Figure at 0x2ef40cda908>"
      ]
     },
     "metadata": {},
     "output_type": "display_data"
    }
   ],
   "source": [
    "#Working on the combined df, grouping by visibility to see trends between\n",
    "#delays and the weather variables\n",
    "by_visib = df_weather_flights_merged.groupby([df_weather_flights_merged.visib])['TotalDelay', 'Count'].agg([np.mean]).reset_index()\n",
    "print(by_visib)\n",
    "\n",
    "#plot the data\n",
    "plt.scatter(by_visib.visib, by_visib.TotalDelay)\n",
    "plt.xlim(0, 11)\n",
    "plt.ylim(0, 110)\n",
    "plt.ylabel('Average Departure Delay Time (minutes)')\n",
    "plt.xlabel('Visibility (miles)')\n",
    "plt.title('Visibility vs. Average Departure Delay')\n",
    "plt.show()\n",
    "\n",
    "#plot the data\n",
    "plt.scatter(by_visib.visib, by_visib.Count)\n",
    "plt.xlim(0, 11)\n",
    "plt.ylim(0, 20)\n",
    "plt.ylabel('Average Number of Delays')\n",
    "plt.xlabel('Visibility (miles)')\n",
    "plt.title('Visibility vs. Average Number of Delays')\n",
    "plt.show()"
   ]
  },
  {
   "cell_type": "markdown",
   "metadata": {},
   "source": [
    "From the above graphics we can see that lower the visibility slightly higher are the average departure delay time and average count of number of delays. This proves that one of the weather variable like the visibility slightly impacts the flights from NYC.\n",
    "\n",
    "To explore more below we can look at the impact of wind_speed on the flight delays"
   ]
  },
  {
   "cell_type": "code",
   "execution_count": 365,
   "metadata": {
    "collapsed": false
   },
   "outputs": [
    {
     "name": "stdout",
     "output_type": "stream",
     "text": [
      "    wind_speed      Count  TotalDelay\n",
      "                     mean        mean\n",
      "0      0.00000   6.965066   32.212572\n",
      "1      3.45234   7.073048   32.507615\n",
      "2      4.60312   7.032075   34.932986\n",
      "3      5.75390   7.375000   35.489686\n",
      "4      6.90468   7.923205   38.881932\n",
      "5      8.05546   7.447552   40.617614\n",
      "6      9.20624   8.196213   39.996826\n",
      "7     10.35702   8.170732   36.244881\n",
      "8     11.50780   8.254167   41.321800\n",
      "9     12.65858   8.559902   39.965520\n",
      "10    13.80936   8.786350   40.934946\n",
      "11    14.96014   9.021739   43.074567\n",
      "12    16.11092   9.241379   46.835656\n",
      "13    17.26170  10.050314   43.856463\n",
      "14    18.41248   9.280303   40.581763\n",
      "15    19.56326   8.567901   43.970152\n",
      "16    20.71404  10.048387   45.427627\n",
      "17    21.86482   9.285714   41.356599\n",
      "18    23.01560  10.032258   36.087406\n",
      "19    24.16638   9.307692   49.657713\n",
      "20    25.31716  10.142857   50.013629\n",
      "21    26.46794   8.375000   66.838477\n",
      "22    27.61872  10.666667   35.056583\n",
      "23    28.76950  11.142857  104.109409\n",
      "24    29.92028   9.000000   13.125000\n",
      "25    31.07106  10.750000   51.023077\n",
      "26    32.22184   7.000000   71.285714\n",
      "27    33.37262   9.333333   43.540404\n",
      "28    34.52340  18.000000   92.777778\n",
      "29    39.12652  15.000000   52.200000\n",
      "30    40.27730  14.000000   32.142857\n",
      "31  1048.36058  10.000000   33.100000\n"
     ]
    },
    {
     "data": {
      "image/png": "[encoded data removed]",
      "text/plain": [
       "<matplotlib.figure.Figure at 0x2ef3fad8cf8>"
      ]
     },
     "metadata": {},
     "output_type": "display_data"
    }
   ],
   "source": [
    "#Working on the df_weather_flights_merged df, grouping by wind_speed to see trends between \n",
    "#delays and the weather variables\n",
    "df_wind_analysis = df_weather_flights_merged.dropna(subset = ['wind_speed'])\n",
    "\n",
    "#Calculating average departure delays vs. wind_speed\n",
    "by_wind = df_wind_analysis.groupby([df_wind_analysis.wind_speed])['Count','TotalDelay'].agg([np.mean]).reset_index()\n",
    "print(by_wind)\n",
    "\n",
    "#Plotting the data\n",
    "plt.scatter(by_wind.wind_speed, by_wind.TotalDelay)\n",
    "plt.xlim(0, 40)\n",
    "plt.ylim(0, 120)\n",
    "plt.ylabel('Average Departure Delay Time (minutes)')\n",
    "plt.xlabel('Wind Speed (mph)')\n",
    "plt.title('Average Departure Delay vs. Wind Speed')\n",
    "plt.show()"
   ]
  },
  {
   "cell_type": "markdown",
   "metadata": {},
   "source": [
    "Here, I have removed one observation from the graph as the information in the tuple seems to be an outlier. Values of wind_speed and wind_gust are 100 times greater than the other values in the same column. I have also omitted NA's from wind_speed column. I have grouped on wind_speed and calculated the average departure delay in minutes per value of wind speed (as there are only specific values of wind speed observed in the dataset, it actually is very much a continuous variable). The above graphic depicts that as the wind speed increases the average departure delay time increases. Thus wind_speed impacts flights from NYC."
   ]
  }
 ],
 "metadata": {
  "anaconda-cloud": {},
  "kernelspec": {
   "display_name": "Python [default]",
   "language": "python",
   "name": "python3"
  },
  "language_info": {
   "codemirror_mode": {
    "name": "ipython",
    "version": 3
   },
   "file_extension": ".py",
   "mimetype": "text/x-python",
   "name": "python",
   "nbconvert_exporter": "python",
   "pygments_lexer": "ipython3",
   "version": "3.5.2"
  }
 },
 "nbformat": 4,
 "nbformat_minor": 0
}
